{
 "cells": [
  {
   "cell_type": "code",
   "execution_count": 74,
   "metadata": {},
   "outputs": [],
   "source": [
    "import numpy as np\n",
    "from PIL import Image\n",
    "\n",
    "import torch\n",
    "import torch.nn as nn\n",
    "import torch.nn.functional as F\n",
    "import torch.optim as optim\n",
    "\n",
    "import torchvision\n",
    "import torchvision.transforms as transforms"
   ]
  },
  {
   "cell_type": "code",
   "execution_count": 41,
   "metadata": {},
   "outputs": [],
   "source": [
    "transforms = transforms.Compose([\n",
    "    transforms.ToTensor(),\n",
    "    transforms.Normalize((0.5,0.5,0.5),(0.5,0.5,0.5))\n",
    "])"
   ]
  },
  {
   "cell_type": "code",
   "execution_count": 42,
   "metadata": {},
   "outputs": [
    {
     "name": "stdout",
     "output_type": "stream",
     "text": [
      "Files already downloaded and verified\n",
      "Files already downloaded and verified\n"
     ]
    }
   ],
   "source": [
    "import torch.utils\n",
    "import torch.utils.data\n",
    "\n",
    "\n",
    "train_data = torchvision.datasets.CIFAR10(root='./data',train=True, transform=transforms, download=True)\n",
    "test_data = torchvision.datasets.CIFAR10(root='./data',train=False, transform=transforms, download=True)\n",
    "\n",
    "train_loader = torch.utils.data.DataLoader(train_data,batch_size=32, shuffle=True, num_workers=2)\n",
    "test_loader = torch.utils.data.DataLoader(test_data,batch_size=32, shuffle=True, num_workers=2)"
   ]
  },
  {
   "cell_type": "code",
   "execution_count": 43,
   "metadata": {},
   "outputs": [],
   "source": [
    "image, label = train_data[0]"
   ]
  },
  {
   "cell_type": "code",
   "execution_count": 44,
   "metadata": {},
   "outputs": [
    {
     "data": {
      "text/plain": [
       "tensor([[[-0.5373, -0.6627, -0.6078,  ...,  0.2392,  0.1922,  0.1608],\n",
       "         [-0.8745, -1.0000, -0.8588,  ..., -0.0353, -0.0667, -0.0431],\n",
       "         [-0.8039, -0.8745, -0.6157,  ..., -0.0745, -0.0588, -0.1451],\n",
       "         ...,\n",
       "         [ 0.6314,  0.5765,  0.5529,  ...,  0.2549, -0.5608, -0.5843],\n",
       "         [ 0.4118,  0.3569,  0.4588,  ...,  0.4431, -0.2392, -0.3490],\n",
       "         [ 0.3882,  0.3176,  0.4039,  ...,  0.6941,  0.1843, -0.0353]],\n",
       "\n",
       "        [[-0.5137, -0.6392, -0.6235,  ...,  0.0353, -0.0196, -0.0275],\n",
       "         [-0.8431, -1.0000, -0.9373,  ..., -0.3098, -0.3490, -0.3176],\n",
       "         [-0.8118, -0.9451, -0.7882,  ..., -0.3412, -0.3412, -0.4275],\n",
       "         ...,\n",
       "         [ 0.3333,  0.2000,  0.2627,  ...,  0.0431, -0.7569, -0.7333],\n",
       "         [ 0.0902, -0.0353,  0.1294,  ...,  0.1608, -0.5137, -0.5843],\n",
       "         [ 0.1294,  0.0118,  0.1137,  ...,  0.4431, -0.0745, -0.2784]],\n",
       "\n",
       "        [[-0.5059, -0.6471, -0.6627,  ..., -0.1529, -0.2000, -0.1922],\n",
       "         [-0.8431, -1.0000, -1.0000,  ..., -0.5686, -0.6078, -0.5529],\n",
       "         [-0.8353, -1.0000, -0.9373,  ..., -0.6078, -0.6078, -0.6706],\n",
       "         ...,\n",
       "         [-0.2471, -0.7333, -0.7961,  ..., -0.4510, -0.9451, -0.8431],\n",
       "         [-0.2471, -0.6706, -0.7647,  ..., -0.2627, -0.7333, -0.7333],\n",
       "         [-0.0902, -0.2627, -0.3176,  ...,  0.0980, -0.3412, -0.4353]]])"
      ]
     },
     "execution_count": 44,
     "metadata": {},
     "output_type": "execute_result"
    }
   ],
   "source": [
    "image"
   ]
  },
  {
   "cell_type": "code",
   "execution_count": 45,
   "metadata": {},
   "outputs": [
    {
     "data": {
      "text/plain": [
       "torch.Size([3, 32, 32])"
      ]
     },
     "execution_count": 45,
     "metadata": {},
     "output_type": "execute_result"
    }
   ],
   "source": [
    "image.size() "
   ]
  },
  {
   "cell_type": "code",
   "execution_count": 46,
   "metadata": {},
   "outputs": [
    {
     "data": {
      "text/plain": [
       "6"
      ]
     },
     "execution_count": 46,
     "metadata": {},
     "output_type": "execute_result"
    }
   ],
   "source": [
    "label"
   ]
  },
  {
   "cell_type": "code",
   "execution_count": 47,
   "metadata": {},
   "outputs": [],
   "source": [
    "class_names=['plane', 'car', 'bird', 'cat', 'deer','dog','frog','horse','ship', 'truck']"
   ]
  },
  {
   "cell_type": "code",
   "execution_count": 52,
   "metadata": {},
   "outputs": [],
   "source": [
    "class NeuralNet(nn.Module):\n",
    "    \n",
    "    def __init__(self):\n",
    "        super(NeuralNet, self).__init__()\n",
    "\n",
    "        # Define the layers\n",
    "        self.conv1 = nn.Conv2d(3, 12, 5)  # Input: 3 channels, Output: 12 channels, Kernel size: 5\n",
    "        self.pool = nn.MaxPool2d(2, 2)    # Pooling layer with kernel size 2\n",
    "        self.conv2 = nn.Conv2d(12, 24, 5) # Input: 12 channels, Output: 24 channels, Kernel size: 5\n",
    "\n",
    "        # Adjusted fully connected layers to match the output sizes\n",
    "        self.fc1 = nn.Linear(24 * 5 * 5, 120)  # Correct input size: 24*5*5, Output size: 120\n",
    "        self.fc2 = nn.Linear(120, 84)          # Input size: 120, Output size: 84\n",
    "        self.fc3 = nn.Linear(84, 10)           # Input size: 84, Output size: 10 (number of classes)\n",
    "\n",
    "    def forward(self, x):\n",
    "        x = self.pool(F.relu(self.conv1(x)))   # After first convolution + pooling\n",
    "        x = self.pool(F.relu(self.conv2(x)))   # After second convolution + pooling\n",
    "        x = torch.flatten(x, 1)                # Flatten the tensor except for the batch dimension\n",
    "        x = F.relu(self.fc1(x))                # First fully connected layer\n",
    "        x = F.relu(self.fc2(x))                # Second fully connected layer\n",
    "        x = self.fc3(x)                        # Output layer\n",
    "        return x"
   ]
  },
  {
   "cell_type": "code",
   "execution_count": 66,
   "metadata": {},
   "outputs": [],
   "source": [
    "net = NeuralNet()\n",
    "loss_fnc = nn.CrossEntropyLoss()\n",
    "optimizer = optim.SGD(net.parameters(),lr=0.01,momentum=0.9)"
   ]
  },
  {
   "cell_type": "code",
   "execution_count": 68,
   "metadata": {},
   "outputs": [
    {
     "name": "stdout",
     "output_type": "stream",
     "text": [
      " Training epoch 0...\n",
      "Loss: 1.2336\n",
      " Training epoch 1...\n",
      "Loss: 1.0696\n",
      " Training epoch 2...\n",
      "Loss: 0.9784\n",
      " Training epoch 3...\n",
      "Loss: 0.8972\n",
      " Training epoch 4...\n",
      "Loss: 0.8366\n",
      " Training epoch 5...\n",
      "Loss: 0.7885\n",
      " Training epoch 6...\n",
      "Loss: 0.7405\n",
      " Training epoch 7...\n",
      "Loss: 0.7129\n",
      " Training epoch 8...\n",
      "Loss: 0.6752\n",
      " Training epoch 9...\n",
      "Loss: 0.6438\n",
      " Training epoch 10...\n",
      "Loss: 0.6307\n",
      " Training epoch 11...\n",
      "Loss: 0.6057\n",
      " Training epoch 12...\n",
      "Loss: 0.5909\n",
      " Training epoch 13...\n",
      "Loss: 0.5781\n",
      " Training epoch 14...\n",
      "Loss: 0.5663\n",
      " Training epoch 15...\n",
      "Loss: 0.5497\n",
      " Training epoch 16...\n",
      "Loss: 0.5321\n",
      " Training epoch 17...\n",
      "Loss: 0.5268\n",
      " Training epoch 18...\n",
      "Loss: 0.5237\n",
      " Training epoch 19...\n",
      "Loss: 0.5202\n",
      " Training epoch 20...\n",
      "Loss: 0.5191\n",
      " Training epoch 21...\n",
      "Loss: 0.5018\n",
      " Training epoch 22...\n",
      "Loss: 0.5128\n",
      " Training epoch 23...\n",
      "Loss: 0.4963\n",
      " Training epoch 24...\n",
      "Loss: 0.4940\n",
      " Training epoch 25...\n",
      "Loss: 0.5089\n",
      " Training epoch 26...\n",
      "Loss: 0.5056\n",
      " Training epoch 27...\n",
      "Loss: 0.5047\n",
      " Training epoch 28...\n",
      "Loss: 0.4814\n",
      " Training epoch 29...\n",
      "Loss: 0.4876\n"
     ]
    }
   ],
   "source": [
    "# input_tensor = torch.randn(1, 3, 32, 32)  # Batch size: 1, Channels: 3, Height: 32, Width: 32\n",
    "# output = net(input_tensor)\n",
    "# print(\"Output shape:\", output.shape)\n",
    "for epoch in range(30):\n",
    "        print(f' Training epoch {epoch}...')\n",
    "        current_loss = 0.0\n",
    "        for i, data in enumerate(train_loader):\n",
    "                inputs, labels = data\n",
    "                optimizer.zero_grad()\n",
    "                output = net(inputs)\n",
    "                loss = loss_fnc(output, labels)  # This line should now work correctly\n",
    "                loss.backward()\n",
    "                optimizer.step()\n",
    "\n",
    "                current_loss += loss.item()  # Use `.item()` to get the scalar value of the loss\n",
    "\n",
    "        print(f'Loss: {current_loss/len(train_loader):.4f}')\n",
    "\n"
   ]
  },
  {
   "cell_type": "code",
   "execution_count": 69,
   "metadata": {},
   "outputs": [],
   "source": [
    "torch.save(net.state_dict(),'trained_net.pth')"
   ]
  },
  {
   "cell_type": "code",
   "execution_count": null,
   "metadata": {},
   "outputs": [],
   "source": [
    "net = NeuralNet()\n",
    "net.load_state_dict(torch.load('trained_net.pth'))"
   ]
  },
  {
   "cell_type": "code",
   "execution_count": 73,
   "metadata": {},
   "outputs": [
    {
     "name": "stdout",
     "output_type": "stream",
     "text": [
      " accuracy: 62.98%\n"
     ]
    }
   ],
   "source": [
    "correct =0\n",
    "total =0\n",
    "net.eval()\n",
    "\n",
    "with torch.no_grad():\n",
    "    for data in test_loader:\n",
    "        images,labels = data\n",
    "        outputs = net(images)\n",
    "        _,predicted = torch.max(outputs,1)\n",
    "        total += labels.size(0)\n",
    "        correct += (predicted==labels).sum().item()\n",
    "accuracy = 100* correct/total \n",
    "print(f' accuracy: {accuracy}%')"
   ]
  },
  {
   "cell_type": "code",
   "execution_count": 78,
   "metadata": {},
   "outputs": [
    {
     "name": "stdout",
     "output_type": "stream",
     "text": [
      "Predicted class: bird\n",
      "Predicted class: plane\n"
     ]
    }
   ],
   "source": [
    "new_transform = transforms.Compose([\n",
    "    transforms.Resize((32, 32)),  # Pass the size as a tuple\n",
    "    transforms.ToTensor(),\n",
    "    transforms.Normalize((0.5, 0.5, 0.5), (0.5, 0.5, 0.5))\n",
    "])\n",
    "\n",
    "def load_image(image_path):\n",
    "    image = Image.open(image_path)\n",
    "    image = new_transform(image)\n",
    "    image = image.unsqueeze(0)  # Add batch dimension\n",
    "    return image\n",
    "\n",
    "image_paths = ['example1.jpg', 'example2.jpg']\n",
    "images = [load_image(img) for img in image_paths]  # Use 'images' instead of 'image' for clarity\n",
    "\n",
    "net.eval()\n",
    "with torch.no_grad():\n",
    "    for image in images:\n",
    "        output = net(image)\n",
    "        _, predicted = torch.max(output, 1)\n",
    "        print(f'Predicted class: {class_names[predicted.item()]}')\n"
   ]
  }
 ],
 "metadata": {
  "kernelspec": {
   "display_name": "Python 3",
   "language": "python",
   "name": "python3"
  },
  "language_info": {
   "codemirror_mode": {
    "name": "ipython",
    "version": 3
   },
   "file_extension": ".py",
   "mimetype": "text/x-python",
   "name": "python",
   "nbconvert_exporter": "python",
   "pygments_lexer": "ipython3",
   "version": "3.12.1"
  }
 },
 "nbformat": 4,
 "nbformat_minor": 2
}
